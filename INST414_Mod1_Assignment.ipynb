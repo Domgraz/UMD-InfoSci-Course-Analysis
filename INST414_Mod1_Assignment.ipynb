{
 "cells": [
  {
   "cell_type": "markdown",
   "metadata": {},
   "source": [
    "# Using umd.io API to produce insights\n",
    "\n",
    "By Dominic Graziano"
   ]
  },
  {
   "cell_type": "code",
   "execution_count": 263,
   "metadata": {},
   "outputs": [],
   "source": [
    "import requests\n",
    "import pandas as pd\n",
    "import matplotlib.pyplot as plt"
   ]
  },
  {
   "cell_type": "markdown",
   "metadata": {},
   "source": [
    "These are the classes I want to pass onto the API to search for. They are all the classes that are required for an InfoSci undergrad student to take in the data science track/specialization."
   ]
  },
  {
   "cell_type": "code",
   "execution_count": 286,
   "metadata": {},
   "outputs": [],
   "source": [
    "course_codes = ['MATH115','PSYC100','STAT100','INST126','INST201','INST311','INST314','INST326','INST327','INST335']"
   ]
  },
  {
   "cell_type": "markdown",
   "metadata": {},
   "source": [
    "I am using the umd.io API and want to access the sections data for the courses that will be passed through"
   ]
  },
  {
   "cell_type": "code",
   "execution_count": 287,
   "metadata": {},
   "outputs": [],
   "source": [
    "base_url = 'https://api.umd.io/v1/courses/sections?course_id='"
   ]
  },
  {
   "cell_type": "markdown",
   "metadata": {},
   "source": [
    "The cell below retrieves the data through the umd.io API and then will put it into a list which can be transformed later into a better format for data analysis."
   ]
  },
  {
   "cell_type": "code",
   "execution_count": 288,
   "metadata": {},
   "outputs": [],
   "source": [
    "#initialize a list which all of the data will go into\n",
    "all_course_data = []\n",
    "\n",
    "for course_code in course_codes:\n",
    "    # Creates the URL for each of the courses\n",
    "    course_url = f\"{base_url}{course_code}\"\n",
    "    \n",
    "    # Send the API request for the current course which will be looped through\n",
    "    response = requests.get(course_url)\n",
    "    \n",
    "    # Check if the request was successful (status code 200), and runs the .json()\n",
    "    if response.status_code == 200:\n",
    "        # Parse the JSON response into a dictionary\n",
    "        course_data = response.json()\n",
    "        \n",
    "        for item in course_data:\n",
    "            course = item['course']\n",
    "            section_id = item['section_id']\n",
    "            semester = item['semester']\n",
    "            seats = item['seats']\n",
    "            meetings = item['meetings']\n",
    "            open_seats = item['open_seats']\n",
    "            instructors = item['instructors']\n",
    "    \n",
    "            row_data = {\n",
    "                \"Course\": course,\n",
    "                \"Section ID\": section_id,\n",
    "                \"Semester\": semester,\n",
    "                \"Seats\": seats,\n",
    "                'Meetings': meetings,\n",
    "                \"Open Seats\": open_seats,\n",
    "                \"Instructors\": instructors\n",
    "            }\n",
    "            # The data above is appended for each of the courses when th loop is run\n",
    "            all_course_data.append(row_data)\n",
    "        \n",
    "  "
   ]
  },
  {
   "cell_type": "markdown",
   "metadata": {},
   "source": [
    "Transforms the appended data into a dataframe where we can produce quick analysis' "
   ]
  },
  {
   "cell_type": "code",
   "execution_count": 289,
   "metadata": {},
   "outputs": [
    {
     "data": {
      "text/html": [
       "<div>\n",
       "<style scoped>\n",
       "    .dataframe tbody tr th:only-of-type {\n",
       "        vertical-align: middle;\n",
       "    }\n",
       "\n",
       "    .dataframe tbody tr th {\n",
       "        vertical-align: top;\n",
       "    }\n",
       "\n",
       "    .dataframe thead th {\n",
       "        text-align: right;\n",
       "    }\n",
       "</style>\n",
       "<table border=\"1\" class=\"dataframe\">\n",
       "  <thead>\n",
       "    <tr style=\"text-align: right;\">\n",
       "      <th></th>\n",
       "      <th>Course</th>\n",
       "      <th>Section ID</th>\n",
       "      <th>Semester</th>\n",
       "      <th>Seats</th>\n",
       "      <th>Meetings</th>\n",
       "      <th>Open Seats</th>\n",
       "      <th>Instructors</th>\n",
       "    </tr>\n",
       "  </thead>\n",
       "  <tbody>\n",
       "    <tr>\n",
       "      <th>0</th>\n",
       "      <td>MATH115</td>\n",
       "      <td>MATH115-0111</td>\n",
       "      <td>202308</td>\n",
       "      <td>28</td>\n",
       "      <td>[{'days': 'MWF', 'room': '0202', 'building': '...</td>\n",
       "      <td>0</td>\n",
       "      <td>[Raluca Rosca]</td>\n",
       "    </tr>\n",
       "    <tr>\n",
       "      <th>1</th>\n",
       "      <td>MATH115</td>\n",
       "      <td>MATH115-0121</td>\n",
       "      <td>202308</td>\n",
       "      <td>28</td>\n",
       "      <td>[{'days': 'MWF', 'room': '0202', 'building': '...</td>\n",
       "      <td>0</td>\n",
       "      <td>[Raluca Rosca]</td>\n",
       "    </tr>\n",
       "    <tr>\n",
       "      <th>2</th>\n",
       "      <td>MATH115</td>\n",
       "      <td>MATH115-0131</td>\n",
       "      <td>202308</td>\n",
       "      <td>28</td>\n",
       "      <td>[{'days': 'MWF', 'room': '0202', 'building': '...</td>\n",
       "      <td>7</td>\n",
       "      <td>[Raluca Rosca]</td>\n",
       "    </tr>\n",
       "    <tr>\n",
       "      <th>3</th>\n",
       "      <td>MATH115</td>\n",
       "      <td>MATH115-0141</td>\n",
       "      <td>202308</td>\n",
       "      <td>28</td>\n",
       "      <td>[{'days': 'MWF', 'room': '0202', 'building': '...</td>\n",
       "      <td>6</td>\n",
       "      <td>[Raluca Rosca]</td>\n",
       "    </tr>\n",
       "    <tr>\n",
       "      <th>4</th>\n",
       "      <td>MATH115</td>\n",
       "      <td>MATH115-0151</td>\n",
       "      <td>202308</td>\n",
       "      <td>28</td>\n",
       "      <td>[{'days': 'MWF', 'room': '0202', 'building': '...</td>\n",
       "      <td>3</td>\n",
       "      <td>[Raluca Rosca]</td>\n",
       "    </tr>\n",
       "  </tbody>\n",
       "</table>\n",
       "</div>"
      ],
      "text/plain": [
       "    Course    Section ID Semester Seats  \\\n",
       "0  MATH115  MATH115-0111   202308    28   \n",
       "1  MATH115  MATH115-0121   202308    28   \n",
       "2  MATH115  MATH115-0131   202308    28   \n",
       "3  MATH115  MATH115-0141   202308    28   \n",
       "4  MATH115  MATH115-0151   202308    28   \n",
       "\n",
       "                                            Meetings Open Seats  \\\n",
       "0  [{'days': 'MWF', 'room': '0202', 'building': '...          0   \n",
       "1  [{'days': 'MWF', 'room': '0202', 'building': '...          0   \n",
       "2  [{'days': 'MWF', 'room': '0202', 'building': '...          7   \n",
       "3  [{'days': 'MWF', 'room': '0202', 'building': '...          6   \n",
       "4  [{'days': 'MWF', 'room': '0202', 'building': '...          3   \n",
       "\n",
       "      Instructors  \n",
       "0  [Raluca Rosca]  \n",
       "1  [Raluca Rosca]  \n",
       "2  [Raluca Rosca]  \n",
       "3  [Raluca Rosca]  \n",
       "4  [Raluca Rosca]  "
      ]
     },
     "execution_count": 289,
     "metadata": {},
     "output_type": "execute_result"
    }
   ],
   "source": [
    "df = pd.DataFrame(all_course_data)\n",
    "df.head()"
   ]
  },
  {
   "cell_type": "markdown",
   "metadata": {},
   "source": [
    "I noticed that the meetings in the json contained another list so it had to be broken down into a new column for each of the entries"
   ]
  },
  {
   "cell_type": "code",
   "execution_count": 266,
   "metadata": {},
   "outputs": [],
   "source": [
    "#apply the lambda function to the datafrane which breaks up the meetings column, then we can drop the original meetings\n",
    "meetings_df = df['Meetings'].apply(lambda x: x[0] if len(x) > 0 else {})\n",
    "meetings_df = meetings_df.apply(pd.Series)\n",
    "df = pd.concat([df, meetings_df], axis=1)\n",
    "df = df.drop(columns='Meetings')"
   ]
  },
  {
   "cell_type": "markdown",
   "metadata": {},
   "source": [
    "Code to remove the brackets left in the instructors column"
   ]
  },
  {
   "cell_type": "code",
   "execution_count": 267,
   "metadata": {},
   "outputs": [],
   "source": [
    "df['Instructors'] = df['Instructors'].apply(lambda x: ', '.join(x))"
   ]
  },
  {
   "cell_type": "code",
   "execution_count": 268,
   "metadata": {},
   "outputs": [
    {
     "data": {
      "text/html": [
       "<div>\n",
       "<style scoped>\n",
       "    .dataframe tbody tr th:only-of-type {\n",
       "        vertical-align: middle;\n",
       "    }\n",
       "\n",
       "    .dataframe tbody tr th {\n",
       "        vertical-align: top;\n",
       "    }\n",
       "\n",
       "    .dataframe thead th {\n",
       "        text-align: right;\n",
       "    }\n",
       "</style>\n",
       "<table border=\"1\" class=\"dataframe\">\n",
       "  <thead>\n",
       "    <tr style=\"text-align: right;\">\n",
       "      <th></th>\n",
       "      <th>Course</th>\n",
       "      <th>Section ID</th>\n",
       "      <th>Semester</th>\n",
       "      <th>Seats</th>\n",
       "      <th>Open Seats</th>\n",
       "      <th>Instructors</th>\n",
       "      <th>days</th>\n",
       "      <th>room</th>\n",
       "      <th>building</th>\n",
       "      <th>classtype</th>\n",
       "      <th>start_time</th>\n",
       "      <th>end_time</th>\n",
       "    </tr>\n",
       "  </thead>\n",
       "  <tbody>\n",
       "    <tr>\n",
       "      <th>0</th>\n",
       "      <td>MATH115</td>\n",
       "      <td>MATH115-0111</td>\n",
       "      <td>202308</td>\n",
       "      <td>28</td>\n",
       "      <td>0</td>\n",
       "      <td>Raluca Rosca</td>\n",
       "      <td>MWF</td>\n",
       "      <td>0202</td>\n",
       "      <td>ESJ</td>\n",
       "      <td></td>\n",
       "      <td>9:00am</td>\n",
       "      <td>9:50am</td>\n",
       "    </tr>\n",
       "    <tr>\n",
       "      <th>1</th>\n",
       "      <td>MATH115</td>\n",
       "      <td>MATH115-0121</td>\n",
       "      <td>202308</td>\n",
       "      <td>28</td>\n",
       "      <td>0</td>\n",
       "      <td>Raluca Rosca</td>\n",
       "      <td>MWF</td>\n",
       "      <td>0202</td>\n",
       "      <td>ESJ</td>\n",
       "      <td></td>\n",
       "      <td>9:00am</td>\n",
       "      <td>9:50am</td>\n",
       "    </tr>\n",
       "    <tr>\n",
       "      <th>2</th>\n",
       "      <td>MATH115</td>\n",
       "      <td>MATH115-0131</td>\n",
       "      <td>202308</td>\n",
       "      <td>28</td>\n",
       "      <td>7</td>\n",
       "      <td>Raluca Rosca</td>\n",
       "      <td>MWF</td>\n",
       "      <td>0202</td>\n",
       "      <td>ESJ</td>\n",
       "      <td></td>\n",
       "      <td>9:00am</td>\n",
       "      <td>9:50am</td>\n",
       "    </tr>\n",
       "    <tr>\n",
       "      <th>3</th>\n",
       "      <td>MATH115</td>\n",
       "      <td>MATH115-0141</td>\n",
       "      <td>202308</td>\n",
       "      <td>28</td>\n",
       "      <td>6</td>\n",
       "      <td>Raluca Rosca</td>\n",
       "      <td>MWF</td>\n",
       "      <td>0202</td>\n",
       "      <td>ESJ</td>\n",
       "      <td></td>\n",
       "      <td>9:00am</td>\n",
       "      <td>9:50am</td>\n",
       "    </tr>\n",
       "    <tr>\n",
       "      <th>4</th>\n",
       "      <td>MATH115</td>\n",
       "      <td>MATH115-0151</td>\n",
       "      <td>202308</td>\n",
       "      <td>28</td>\n",
       "      <td>3</td>\n",
       "      <td>Raluca Rosca</td>\n",
       "      <td>MWF</td>\n",
       "      <td>0202</td>\n",
       "      <td>ESJ</td>\n",
       "      <td></td>\n",
       "      <td>9:00am</td>\n",
       "      <td>9:50am</td>\n",
       "    </tr>\n",
       "  </tbody>\n",
       "</table>\n",
       "</div>"
      ],
      "text/plain": [
       "    Course    Section ID Semester Seats Open Seats   Instructors days  room  \\\n",
       "0  MATH115  MATH115-0111   202308    28          0  Raluca Rosca  MWF  0202   \n",
       "1  MATH115  MATH115-0121   202308    28          0  Raluca Rosca  MWF  0202   \n",
       "2  MATH115  MATH115-0131   202308    28          7  Raluca Rosca  MWF  0202   \n",
       "3  MATH115  MATH115-0141   202308    28          6  Raluca Rosca  MWF  0202   \n",
       "4  MATH115  MATH115-0151   202308    28          3  Raluca Rosca  MWF  0202   \n",
       "\n",
       "  building classtype start_time end_time  \n",
       "0      ESJ               9:00am   9:50am  \n",
       "1      ESJ               9:00am   9:50am  \n",
       "2      ESJ               9:00am   9:50am  \n",
       "3      ESJ               9:00am   9:50am  \n",
       "4      ESJ               9:00am   9:50am  "
      ]
     },
     "execution_count": 268,
     "metadata": {},
     "output_type": "execute_result"
    }
   ],
   "source": [
    "df.head()"
   ]
  },
  {
   "cell_type": "markdown",
   "metadata": {},
   "source": [
    "I wanted to add the level at which the course is taken, such that there would be 100, 200, 300, and 400 level courses to classify them, as well as split up and get the department in another column as well"
   ]
  },
  {
   "cell_type": "code",
   "execution_count": 290,
   "metadata": {},
   "outputs": [],
   "source": [
    "#first line gets the department, second line gets and adds the column of levels\n",
    "df['department'] = df['Course'].str[:4]\n",
    "df['level'] = df['Course'].str[-3] + '00'"
   ]
  },
  {
   "cell_type": "code",
   "execution_count": 270,
   "metadata": {},
   "outputs": [
    {
     "data": {
      "text/html": [
       "<div>\n",
       "<style scoped>\n",
       "    .dataframe tbody tr th:only-of-type {\n",
       "        vertical-align: middle;\n",
       "    }\n",
       "\n",
       "    .dataframe tbody tr th {\n",
       "        vertical-align: top;\n",
       "    }\n",
       "\n",
       "    .dataframe thead th {\n",
       "        text-align: right;\n",
       "    }\n",
       "</style>\n",
       "<table border=\"1\" class=\"dataframe\">\n",
       "  <thead>\n",
       "    <tr style=\"text-align: right;\">\n",
       "      <th></th>\n",
       "      <th>Course</th>\n",
       "      <th>Section ID</th>\n",
       "      <th>Semester</th>\n",
       "      <th>Seats</th>\n",
       "      <th>Open Seats</th>\n",
       "      <th>Instructors</th>\n",
       "      <th>days</th>\n",
       "      <th>room</th>\n",
       "      <th>building</th>\n",
       "      <th>classtype</th>\n",
       "      <th>start_time</th>\n",
       "      <th>end_time</th>\n",
       "      <th>department</th>\n",
       "      <th>level</th>\n",
       "    </tr>\n",
       "  </thead>\n",
       "  <tbody>\n",
       "    <tr>\n",
       "      <th>0</th>\n",
       "      <td>MATH115</td>\n",
       "      <td>MATH115-0111</td>\n",
       "      <td>202308</td>\n",
       "      <td>28</td>\n",
       "      <td>0</td>\n",
       "      <td>Raluca Rosca</td>\n",
       "      <td>MWF</td>\n",
       "      <td>0202</td>\n",
       "      <td>ESJ</td>\n",
       "      <td></td>\n",
       "      <td>9:00am</td>\n",
       "      <td>9:50am</td>\n",
       "      <td>MATH</td>\n",
       "      <td>100</td>\n",
       "    </tr>\n",
       "    <tr>\n",
       "      <th>1</th>\n",
       "      <td>MATH115</td>\n",
       "      <td>MATH115-0121</td>\n",
       "      <td>202308</td>\n",
       "      <td>28</td>\n",
       "      <td>0</td>\n",
       "      <td>Raluca Rosca</td>\n",
       "      <td>MWF</td>\n",
       "      <td>0202</td>\n",
       "      <td>ESJ</td>\n",
       "      <td></td>\n",
       "      <td>9:00am</td>\n",
       "      <td>9:50am</td>\n",
       "      <td>MATH</td>\n",
       "      <td>100</td>\n",
       "    </tr>\n",
       "    <tr>\n",
       "      <th>2</th>\n",
       "      <td>MATH115</td>\n",
       "      <td>MATH115-0131</td>\n",
       "      <td>202308</td>\n",
       "      <td>28</td>\n",
       "      <td>7</td>\n",
       "      <td>Raluca Rosca</td>\n",
       "      <td>MWF</td>\n",
       "      <td>0202</td>\n",
       "      <td>ESJ</td>\n",
       "      <td></td>\n",
       "      <td>9:00am</td>\n",
       "      <td>9:50am</td>\n",
       "      <td>MATH</td>\n",
       "      <td>100</td>\n",
       "    </tr>\n",
       "    <tr>\n",
       "      <th>3</th>\n",
       "      <td>MATH115</td>\n",
       "      <td>MATH115-0141</td>\n",
       "      <td>202308</td>\n",
       "      <td>28</td>\n",
       "      <td>6</td>\n",
       "      <td>Raluca Rosca</td>\n",
       "      <td>MWF</td>\n",
       "      <td>0202</td>\n",
       "      <td>ESJ</td>\n",
       "      <td></td>\n",
       "      <td>9:00am</td>\n",
       "      <td>9:50am</td>\n",
       "      <td>MATH</td>\n",
       "      <td>100</td>\n",
       "    </tr>\n",
       "    <tr>\n",
       "      <th>4</th>\n",
       "      <td>MATH115</td>\n",
       "      <td>MATH115-0151</td>\n",
       "      <td>202308</td>\n",
       "      <td>28</td>\n",
       "      <td>3</td>\n",
       "      <td>Raluca Rosca</td>\n",
       "      <td>MWF</td>\n",
       "      <td>0202</td>\n",
       "      <td>ESJ</td>\n",
       "      <td></td>\n",
       "      <td>9:00am</td>\n",
       "      <td>9:50am</td>\n",
       "      <td>MATH</td>\n",
       "      <td>100</td>\n",
       "    </tr>\n",
       "  </tbody>\n",
       "</table>\n",
       "</div>"
      ],
      "text/plain": [
       "    Course    Section ID Semester Seats Open Seats   Instructors days  room  \\\n",
       "0  MATH115  MATH115-0111   202308    28          0  Raluca Rosca  MWF  0202   \n",
       "1  MATH115  MATH115-0121   202308    28          0  Raluca Rosca  MWF  0202   \n",
       "2  MATH115  MATH115-0131   202308    28          7  Raluca Rosca  MWF  0202   \n",
       "3  MATH115  MATH115-0141   202308    28          6  Raluca Rosca  MWF  0202   \n",
       "4  MATH115  MATH115-0151   202308    28          3  Raluca Rosca  MWF  0202   \n",
       "\n",
       "  building classtype start_time end_time department level  \n",
       "0      ESJ               9:00am   9:50am       MATH   100  \n",
       "1      ESJ               9:00am   9:50am       MATH   100  \n",
       "2      ESJ               9:00am   9:50am       MATH   100  \n",
       "3      ESJ               9:00am   9:50am       MATH   100  \n",
       "4      ESJ               9:00am   9:50am       MATH   100  "
      ]
     },
     "execution_count": 270,
     "metadata": {},
     "output_type": "execute_result"
    }
   ],
   "source": [
    "df.head()"
   ]
  },
  {
   "cell_type": "markdown",
   "metadata": {},
   "source": [
    "There was whitespace in the columns where I wanted there to be a format of the class they needed to be replaced"
   ]
  },
  {
   "cell_type": "code",
   "execution_count": 271,
   "metadata": {},
   "outputs": [],
   "source": [
    "#gets the classes in the format of online and adds online into the classtype column\n",
    "online = df['room'] == 'ONLINE'\n",
    "df.loc[online, 'classtype'] = 'Online'\n",
    "\n",
    "#gets everything but online classes and assumes in person format into the classtype column\n",
    "in_person = df['room'] != 'ONLINE'\n",
    "df.loc[in_person,'classtype'] = 'In Person'"
   ]
  },
  {
   "cell_type": "code",
   "execution_count": 272,
   "metadata": {},
   "outputs": [
    {
     "data": {
      "text/html": [
       "<div>\n",
       "<style scoped>\n",
       "    .dataframe tbody tr th:only-of-type {\n",
       "        vertical-align: middle;\n",
       "    }\n",
       "\n",
       "    .dataframe tbody tr th {\n",
       "        vertical-align: top;\n",
       "    }\n",
       "\n",
       "    .dataframe thead th {\n",
       "        text-align: right;\n",
       "    }\n",
       "</style>\n",
       "<table border=\"1\" class=\"dataframe\">\n",
       "  <thead>\n",
       "    <tr style=\"text-align: right;\">\n",
       "      <th></th>\n",
       "      <th>Course</th>\n",
       "      <th>Section ID</th>\n",
       "      <th>Semester</th>\n",
       "      <th>Seats</th>\n",
       "      <th>Open Seats</th>\n",
       "      <th>Instructors</th>\n",
       "      <th>days</th>\n",
       "      <th>room</th>\n",
       "      <th>building</th>\n",
       "      <th>classtype</th>\n",
       "      <th>start_time</th>\n",
       "      <th>end_time</th>\n",
       "      <th>department</th>\n",
       "      <th>level</th>\n",
       "    </tr>\n",
       "  </thead>\n",
       "  <tbody>\n",
       "    <tr>\n",
       "      <th>0</th>\n",
       "      <td>MATH115</td>\n",
       "      <td>MATH115-0111</td>\n",
       "      <td>202308</td>\n",
       "      <td>28</td>\n",
       "      <td>0</td>\n",
       "      <td>Raluca Rosca</td>\n",
       "      <td>MWF</td>\n",
       "      <td>0202</td>\n",
       "      <td>ESJ</td>\n",
       "      <td>In Person</td>\n",
       "      <td>9:00am</td>\n",
       "      <td>9:50am</td>\n",
       "      <td>MATH</td>\n",
       "      <td>100</td>\n",
       "    </tr>\n",
       "    <tr>\n",
       "      <th>1</th>\n",
       "      <td>MATH115</td>\n",
       "      <td>MATH115-0121</td>\n",
       "      <td>202308</td>\n",
       "      <td>28</td>\n",
       "      <td>0</td>\n",
       "      <td>Raluca Rosca</td>\n",
       "      <td>MWF</td>\n",
       "      <td>0202</td>\n",
       "      <td>ESJ</td>\n",
       "      <td>In Person</td>\n",
       "      <td>9:00am</td>\n",
       "      <td>9:50am</td>\n",
       "      <td>MATH</td>\n",
       "      <td>100</td>\n",
       "    </tr>\n",
       "    <tr>\n",
       "      <th>2</th>\n",
       "      <td>MATH115</td>\n",
       "      <td>MATH115-0131</td>\n",
       "      <td>202308</td>\n",
       "      <td>28</td>\n",
       "      <td>7</td>\n",
       "      <td>Raluca Rosca</td>\n",
       "      <td>MWF</td>\n",
       "      <td>0202</td>\n",
       "      <td>ESJ</td>\n",
       "      <td>In Person</td>\n",
       "      <td>9:00am</td>\n",
       "      <td>9:50am</td>\n",
       "      <td>MATH</td>\n",
       "      <td>100</td>\n",
       "    </tr>\n",
       "    <tr>\n",
       "      <th>3</th>\n",
       "      <td>MATH115</td>\n",
       "      <td>MATH115-0141</td>\n",
       "      <td>202308</td>\n",
       "      <td>28</td>\n",
       "      <td>6</td>\n",
       "      <td>Raluca Rosca</td>\n",
       "      <td>MWF</td>\n",
       "      <td>0202</td>\n",
       "      <td>ESJ</td>\n",
       "      <td>In Person</td>\n",
       "      <td>9:00am</td>\n",
       "      <td>9:50am</td>\n",
       "      <td>MATH</td>\n",
       "      <td>100</td>\n",
       "    </tr>\n",
       "    <tr>\n",
       "      <th>4</th>\n",
       "      <td>MATH115</td>\n",
       "      <td>MATH115-0151</td>\n",
       "      <td>202308</td>\n",
       "      <td>28</td>\n",
       "      <td>3</td>\n",
       "      <td>Raluca Rosca</td>\n",
       "      <td>MWF</td>\n",
       "      <td>0202</td>\n",
       "      <td>ESJ</td>\n",
       "      <td>In Person</td>\n",
       "      <td>9:00am</td>\n",
       "      <td>9:50am</td>\n",
       "      <td>MATH</td>\n",
       "      <td>100</td>\n",
       "    </tr>\n",
       "  </tbody>\n",
       "</table>\n",
       "</div>"
      ],
      "text/plain": [
       "    Course    Section ID Semester Seats Open Seats   Instructors days  room  \\\n",
       "0  MATH115  MATH115-0111   202308    28          0  Raluca Rosca  MWF  0202   \n",
       "1  MATH115  MATH115-0121   202308    28          0  Raluca Rosca  MWF  0202   \n",
       "2  MATH115  MATH115-0131   202308    28          7  Raluca Rosca  MWF  0202   \n",
       "3  MATH115  MATH115-0141   202308    28          6  Raluca Rosca  MWF  0202   \n",
       "4  MATH115  MATH115-0151   202308    28          3  Raluca Rosca  MWF  0202   \n",
       "\n",
       "  building  classtype start_time end_time department level  \n",
       "0      ESJ  In Person     9:00am   9:50am       MATH   100  \n",
       "1      ESJ  In Person     9:00am   9:50am       MATH   100  \n",
       "2      ESJ  In Person     9:00am   9:50am       MATH   100  \n",
       "3      ESJ  In Person     9:00am   9:50am       MATH   100  \n",
       "4      ESJ  In Person     9:00am   9:50am       MATH   100  "
      ]
     },
     "execution_count": 272,
     "metadata": {},
     "output_type": "execute_result"
    }
   ],
   "source": [
    "df.head()"
   ]
  },
  {
   "cell_type": "markdown",
   "metadata": {},
   "source": [
    "Graph which shows the format of classes that we got the data on"
   ]
  },
  {
   "cell_type": "code",
   "execution_count": 273,
   "metadata": {},
   "outputs": [
    {
     "data": {
      "text/plain": [
       "<matplotlib.legend.Legend at 0x7f7bcee025b0>"
      ]
     },
     "execution_count": 273,
     "metadata": {},
     "output_type": "execute_result"
    },
    {
     "data": {
      "image/png": "[encoded data removed]",
      "text/plain": [
       "<Figure size 640x480 with 1 Axes>"
      ]
     },
     "metadata": {},
     "output_type": "display_data"
    }
   ],
   "source": [
    "plot_df = df.groupby(['department','classtype']).size().unstack()\n",
    "plot_df = plot_df.sort_values('Online', ascending = False)\n",
    "plot_df.plot(kind = 'bar',stacked= False,colormap= 'Accent')\n",
    "\n",
    "plt.ylabel('Number of Classes offered')\n",
    "plt.xlabel('Department of Classes')\n",
    "plt.title('UMD InfoSci Required Curriculum Per Department')\n",
    "plt.legend(title = 'Format of Class')\n"
   ]
  },
  {
   "cell_type": "markdown",
   "metadata": {},
   "source": [
    "This graph breaks down all of the courses we have data on and visualizes the number of seats per all formats offered"
   ]
  },
  {
   "cell_type": "code",
   "execution_count": 274,
   "metadata": {},
   "outputs": [
    {
     "data": {
      "text/plain": [
       "<matplotlib.legend.Legend at 0x7f7bceb0adc0>"
      ]
     },
     "execution_count": 274,
     "metadata": {},
     "output_type": "execute_result"
    },
    {
     "data": {
      "image/png": "[encoded data removed]",
      "text/plain": [
       "<Figure size 640x480 with 1 Axes>"
      ]
     },
     "metadata": {},
     "output_type": "display_data"
    }
   ],
   "source": [
    "df['Seats'] = df['Seats'].astype(int)\n",
    "comp_df = df.groupby(['Course','classtype'])['Seats'].sum().unstack()\n",
    "comp_df = comp_df.sort_values('Online',ascending=False)\n",
    "comp_df.plot(kind = 'bar', stacked= False,colormap= 'Accent')\n",
    "\n",
    "plt.ylabel('Number of Seats by Format')\n",
    "plt.xlabel('Course')\n",
    "plt.title('UMD InfoSci Required Curriculum')\n",
    "plt.legend(title = 'Format of Class')\n"
   ]
  },
  {
   "cell_type": "markdown",
   "metadata": {},
   "source": [
    "Get the professors that have the most sections out of the classes we have data on"
   ]
  },
  {
   "cell_type": "code",
   "execution_count": 275,
   "metadata": {},
   "outputs": [
    {
     "data": {
      "text/plain": [
       "Matthew Griffin              16\n",
       "Raluca Rosca                 10\n",
       "Benjamin Jones               10\n",
       "Abigail Nicolas              10\n",
       "P Kshetry                     8\n",
       "Archana Khurana               6\n",
       "Ryan O'Grady                  6\n",
       "Scott Jackson                 6\n",
       "Pamela Duffy, Vedat Diker     6\n",
       "Jal Irani, Anmol Dash         5\n",
       "Name: Instructors, dtype: int64"
      ]
     },
     "execution_count": 275,
     "metadata": {},
     "output_type": "execute_result"
    }
   ],
   "source": [
    "df['Instructors'].value_counts().head(10)"
   ]
  },
  {
   "cell_type": "markdown",
   "metadata": {},
   "source": [
    "See the distribution of required courses based on the level"
   ]
  },
  {
   "cell_type": "code",
   "execution_count": 276,
   "metadata": {},
   "outputs": [
    {
     "data": {
      "text/plain": [
       "300    73\n",
       "100    70\n",
       "200    12\n",
       "400    12\n",
       "Name: level, dtype: int64"
      ]
     },
     "execution_count": 276,
     "metadata": {},
     "output_type": "execute_result"
    }
   ],
   "source": [
    "count = df['level'].value_counts()\n",
    "count\n"
   ]
  },
  {
   "cell_type": "markdown",
   "metadata": {},
   "source": [
    "This graph visualizes the distribution of course levels within the required courses"
   ]
  },
  {
   "cell_type": "code",
   "execution_count": 277,
   "metadata": {},
   "outputs": [
    {
     "data": {
      "text/plain": [
       "Text(0.5, 1.0, 'UMD InfoSci Required Curriculum')"
      ]
     },
     "execution_count": 277,
     "metadata": {},
     "output_type": "execute_result"
    },
    {
     "data": {
      "image/png": "[encoded data removed]",
      "text/plain": [
       "<Figure size 640x480 with 1 Axes>"
      ]
     },
     "metadata": {},
     "output_type": "display_data"
    }
   ],
   "source": [
    "level_course_counts = df.groupby(\"level\")[\"Course\"].nunique()\n",
    "level_course_counts.plot(kind ='bar',colormap='Accent')\n",
    "\n",
    "plt.ylabel('Number of Classes Offered')\n",
    "plt.xlabel('Course Level')\n",
    "plt.title('UMD InfoSci Required Curriculum')\n"
   ]
  },
  {
   "cell_type": "markdown",
   "metadata": {},
   "source": [
    "This graph visualizes the average size of a class within the curriculum while being grouped by the level and department"
   ]
  },
  {
   "cell_type": "code",
   "execution_count": 285,
   "metadata": {},
   "outputs": [
    {
     "data": {
      "text/plain": [
       "Text(0.5, 1.0, 'Average Class Size Per Department in InfoSci Curriculum')"
      ]
     },
     "execution_count": 285,
     "metadata": {},
     "output_type": "execute_result"
    },
    {
     "data": {
      "image/png": "[encoded data removed]",
      "text/plain": [
       "<Figure size 640x480 with 1 Axes>"
      ]
     },
     "metadata": {},
     "output_type": "display_data"
    }
   ],
   "source": [
    "avg_size = df.groupby(['department','level'])['Seats'].mean()\n",
    "avg_size.plot(kind='bar',colormap='Accent')\n",
    "\n",
    "plt.ylabel('Average Class Size')\n",
    "plt.xlabel('Department and Level')\n",
    "plt.title('Average Class Size Per Department in InfoSci Curriculum')"
   ]
  }
 ],
 "metadata": {
  "kernelspec": {
   "display_name": "base",
   "language": "python",
   "name": "python3"
  },
  "language_info": {
   "codemirror_mode": {
    "name": "ipython",
    "version": 3
   },
   "file_extension": ".py",
   "mimetype": "text/x-python",
   "name": "python",
   "nbconvert_exporter": "python",
   "pygments_lexer": "ipython3",
   "version": "3.9.13"
  },
  "orig_nbformat": 4
 },
 "nbformat": 4,
 "nbformat_minor": 2
}
